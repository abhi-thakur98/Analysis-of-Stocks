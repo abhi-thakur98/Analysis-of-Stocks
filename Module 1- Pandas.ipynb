{
 "cells": [
  {
   "cell_type": "markdown",
   "metadata": {},
   "source": [
    "# Module 1"
   ]
  },
  {
   "cell_type": "markdown",
   "metadata": {},
   "source": [
    "### Query 1.1 \n",
    "Import the csv file of the stock of your choosing using 'pd.read_csv()' function into a dataframe.\n",
    "Shares of a company can be offered in more than one category. The category of a stock is indicated in the ‘Series’ column. If the csv file has data on more than one category, the ‘Date’ column will have repeating values. To avoid repetitions in the date, remove all the rows where 'Series' column is NOT 'EQ'.\n",
    "Analyze and understand each column properly.\n",
    "You'd find the head(), tail() and describe() functions to be immensely useful for exploration. You're free to carry out any other exploration of your own."
   ]
  },
  {
   "cell_type": "code",
   "execution_count": 2,
   "metadata": {},
   "outputs": [],
   "source": [
    "import pandas as pd\n",
    "infosys = pd.read_csv('INFY.csv')\n",
    "infosys = infosys[infosys.Series == 'EQ']"
   ]
  },
  {
   "cell_type": "markdown",
   "metadata": {},
   "source": [
    "### Query 1.2\n",
    "Calculate the maximum, minimum and mean price for the last 90 days. (price=Closing Price unless stated otherwise)"
   ]
  },
  {
   "cell_type": "code",
   "execution_count": 3,
   "metadata": {},
   "outputs": [],
   "source": [
    "maximum_price = infosys.tail(90)['Close Price'].max()\n",
    "minimum_price = infosys.tail(90)['Close Price'].min()\n",
    "mean_price = infosys.tail(90)['Close Price'].mean()"
   ]
  },
  {
   "cell_type": "markdown",
   "metadata": {},
   "source": [
    "### Query 1.3\n",
    "Analyse the data types for each column of the dataframe. Pandas knows how to deal with dates in an intelligent manner. But to make use of Pandas functionality for dates, you need to ensure that the column is of type 'datetime64(ns)'. Change the date column from 'object' type to 'datetime64(ns)' for future convenience. See what happens if you subtract the minimum value of the date column from the maximum value."
   ]
  },
  {
   "cell_type": "code",
   "execution_count": 4,
   "metadata": {},
   "outputs": [
    {
     "data": {
      "text/plain": [
       "Timedelta('728 days 00:00:00')"
      ]
     },
     "execution_count": 4,
     "metadata": {},
     "output_type": "execute_result"
    }
   ],
   "source": [
    "infosys['Date'] = infosys.Date.astype('datetime64[ns]')\n",
    "infosys.Date.max() - infosys.Date.min()"
   ]
  },
  {
   "cell_type": "markdown",
   "metadata": {},
   "source": [
    "### Query 1.4\n",
    "In a separate array , calculate the monthwise VWAP (Volume Weighted Average Price ) of the stock. \n",
    "( VWAP = sum(price*volume)/sum(volume) ) \n",
    "To know more about VWAP , visit - VWAP definition \n",
    "{Hint : Create a new dataframe column ‘Month’. The values for this column can be derived from the ‘Date” column by using appropriate pandas functions. Similarly, create a column ‘Year’ and initialize it. Then use the 'groupby()' function by month and year. Finally, calculate the vwap value for each month (i.e. for each group created)."
   ]
  },
  {
   "cell_type": "code",
   "execution_count": 5,
   "metadata": {},
   "outputs": [],
   "source": [
    "infosys['Month'] = infosys.Date.apply(lambda x : x.month)\n",
    "infosys['Year'] = infosys.Date.apply(lambda x : x.year)\n",
    "infosys['P*V'] = infosys['Last Price']*infosys['Total Traded Quantity']\n",
    "temp = infosys.groupby(['Year','Month']).sum()[['P*V','Total Traded Quantity']]\n",
    "infosys.drop(['Month','Year','P*V'],axis=1,inplace=True)\n",
    "temp['VWAP'] = temp['P*V']/temp['Total Traded Quantity']"
   ]
  },
  {
   "cell_type": "markdown",
   "metadata": {},
   "source": [
    "### Query 1.5\n",
    "Write a function to calculate the average price over the last N days of the stock price data where N is a user defined parameter. Write a second function to calculate the profit/loss percentage over the last N days.\n",
    "Calculate the average price AND the profit/loss percentages over the course of last -\n",
    "1 week, 2 weeks, 1 month, 3 months, 6 months and 1 year.\n",
    "{Note : Profit/Loss percentage between N days is the percentage change between the closing prices of the 2 days }"
   ]
  },
  {
   "cell_type": "code",
   "execution_count": 6,
   "metadata": {},
   "outputs": [
    {
     "name": "stdout",
     "output_type": "stream",
     "text": [
      "Last 7 days average and profit/loss%\t:\t720.5\t-0.54\n",
      "Last 14 days average and profit/loss%\t:\t726.99\t-0.19\n",
      "Last 31 days average and profit/loss%\t:\t736.5\t-1.11\n",
      "Last 93 days average and profit/loss%\t:\t726.15\t11.75\n",
      "Last 186 days average and profit/loss%\t:\t778.66\t-47.11\n",
      "Last 365 days average and profit/loss%\t:\t966.88\t-25.88\n"
     ]
    }
   ],
   "source": [
    "def avg_price(n):\n",
    "    return infosys.tail(n)['Close Price'].mean()\n",
    "def profit_loss_percent(n):\n",
    "    return (infosys.tail(n).reset_index()['Close Price'][n-1] - infosys.tail(n).reset_index()['Close Price'][0])*100/infosys.tail(n).reset_index()['Close Price'][0]\n",
    "n = [7,14,31,93,186,365]\n",
    "for i in n:\n",
    "    print('Last '+str(i)+' days average and profit/loss%',':',round(avg_price(i),2),round(profit_loss_percent(i),2),sep='\\t')"
   ]
  },
  {
   "cell_type": "markdown",
   "metadata": {},
   "source": [
    "### Query 1.6\n",
    "Add a column 'Day_Perc_Change' where the values are the daily change in percentages i.e. the percentage change between 2 consecutive day's closing prices. Instead of using the basic mathematical formula for computing the same, use 'pct_change()' function provided by Pandas for dataframes. You will note that the first entry of the column will have a ‘Nan’ value. Why does this happen? Either remove the first row, or set the entry to 0 before proceeding."
   ]
  },
  {
   "cell_type": "code",
   "execution_count": 7,
   "metadata": {},
   "outputs": [],
   "source": [
    "infosys['Day_Perc_Change'] = infosys['Last Price'].pct_change()\n",
    "infosys['Day_Perc_Change'] = round(infosys['Day_Perc_Change']*100,2)\n",
    "infosys.fillna(0,limit=1,inplace=True)"
   ]
  },
  {
   "cell_type": "markdown",
   "metadata": {},
   "source": [
    "### Query 1.7\n",
    "Add another column 'Trend' whose values are:\n",
    "<ul>\n",
    "    <li>'Slight or No change' for 'Day_Perc_Change' in between -0.5 and 0.5</li>\n",
    "    <li>'Slight positive' for 'Day_Perc_Change' in between 0.5 and 1</li>\n",
    "    <li>'Slight negative' for 'Day_Perc_Change' in between -0.5 and -1</li>\n",
    "    <li>'Positive' for 'Day_Perc_Change' in between 1 and 3</li>\n",
    "    <li>'Negative' for 'Day_Perc_Change' in between -1 and -3</li>\n",
    "    <li>'Among top gainers' for 'Day_Perc_Change' in between 3 and 7</li>\n",
    "    <li>'Among top losers' for 'Day_Perc_Change' in between -3 and -7</li>\n",
    "    <li>'Bull run' for 'Day_Perc_Change' >7</li>\n",
    "    <li>'Bear drop' for 'Day_Perc_Change' <-7</li>\n",
    "</ul>        "
   ]
  },
  {
   "cell_type": "code",
   "execution_count": 8,
   "metadata": {},
   "outputs": [],
   "source": [
    "def trend(x):\n",
    "    if x < -7:\n",
    "        return 'Bear drop'\n",
    "    elif x < -3:\n",
    "        return 'Among top losers'\n",
    "    elif x < -1:\n",
    "        return 'Negative'\n",
    "    elif x < -0.5:\n",
    "        return 'Slight negative'\n",
    "    elif x < 0.5:\n",
    "        return 'Slight or No change'\n",
    "    elif x < 1:\n",
    "        return 'Slight positive'\n",
    "    elif x < 3:\n",
    "        return 'Positive'\n",
    "    elif x < 7:\n",
    "        return 'Among top gainers'\n",
    "    else:\n",
    "        return 'Bear run'\n",
    "infosys['Trend'] = infosys.Day_Perc_Change.apply(lambda x : trend(x))"
   ]
  },
  {
   "cell_type": "markdown",
   "metadata": {},
   "source": [
    "### Query 1.8\n",
    "Find the average and median values of the column 'Total Traded Quantity' for each of the types of 'Trend'.\n",
    "{Hint : use 'groupby()' on the 'Trend' column and then calculate the average and median values of the column 'Total Traded Quantity'}"
   ]
  },
  {
   "cell_type": "code",
   "execution_count": 9,
   "metadata": {},
   "outputs": [
    {
     "data": {
      "text/plain": [
       "Trend\n",
       "Among top gainers      12042170.5\n",
       "Among top losers       11894014.5\n",
       "Bear drop              48786302.0\n",
       "Negative                5405942.0\n",
       "Positive                5553948.0\n",
       "Slight negative         3926982.5\n",
       "Slight or No change     4050728.0\n",
       "Slight positive         4648417.0\n",
       "Name: Total Traded Quantity, dtype: float64"
      ]
     },
     "execution_count": 9,
     "metadata": {},
     "output_type": "execute_result"
    }
   ],
   "source": [
    "infosys.groupby('Trend').mean()['Total Traded Quantity']\n",
    "infosys.groupby('Trend').median()['Total Traded Quantity']"
   ]
  },
  {
   "cell_type": "markdown",
   "metadata": {},
   "source": [
    "### Query 1.9\n",
    "SAVE the dataframe with the additional columns computed as a csv file week2.csv. In Module 2, you are going to get familiar with matplotlib, the python module which is used to visualize data."
   ]
  },
  {
   "cell_type": "code",
   "execution_count": 10,
   "metadata": {},
   "outputs": [],
   "source": [
    "infosys.to_csv('week2.csv',index=False)"
   ]
  }
 ],
 "metadata": {
  "kernelspec": {
   "display_name": "Python 3",
   "language": "python",
   "name": "python3"
  },
  "language_info": {
   "codemirror_mode": {
    "name": "ipython",
    "version": 3
   },
   "file_extension": ".py",
   "mimetype": "text/x-python",
   "name": "python",
   "nbconvert_exporter": "python",
   "pygments_lexer": "ipython3",
   "version": "3.6.5"
  }
 },
 "nbformat": 4,
 "nbformat_minor": 2
}
