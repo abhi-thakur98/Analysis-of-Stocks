{
 "cells": [
  {
   "cell_type": "markdown",
   "metadata": {},
   "source": [
    "# Module 3- Regression & Beta Calculation\n",
    "\n"
   ]
  },
  {
   "cell_type": "markdown",
   "metadata": {},
   "source": [
    "### Query 3.1 \n",
    "Import the file 'gold.csv', which is contains the data about last 2 years price action of Indian(MCX) gold standard. Explore the dataframe. You'd see 2 unique columns - 'Pred' and 'new'.\n",
    "\n",
    "One of the 2 columns is a linear combination of the OHLC prices with varying coefficients while the other is a polynomial function of the same inputs. Also, one of the 2 columns is partially filled.\n",
    "\n",
    "<ul>\n",
    "    <li>Using linear regression, find the coefficients of the inputs and using the same trained model, complete the entire column.\n",
    "    </li>\n",
    "    <li>Also, try to fit the other column as well using a new linear regression model. Check if the predicitons are \n",
    "      accurate.\n",
    "      Mention which column is a linear function and which is a polynomial function.\n",
    "      (Hint: Plotting a histogram & distplot helps in recognizing the  discrepencies in prediction, if any.)\n",
    "    </li>\n",
    "</ul>"
   ]
  },
  {
   "cell_type": "code",
   "execution_count": 3,
   "metadata": {},
   "outputs": [
    {
     "name": "stdout",
     "output_type": "stream",
     "text": [
      "Coefficients = [ 2.  3. -1. -4.] \n",
      "Accuracy = 100.0 %\n",
      "\n",
      "Coefficients = [ 1.01293825 -1.0003835   1.00503772 -1.01765453] \n",
      "Accuracy = 99.99886649319772 %\n"
     ]
    },
    {
     "data": {
      "image/png": "[encoded data removed]",
      "text/plain": [
       "<Figure size 1440x720 with 1 Axes>"
      ]
     },
     "metadata": {},
     "output_type": "display_data"
    }
   ],
   "source": [
    "import pandas as pd\n",
    "from matplotlib import pyplot as plt\n",
    "from sklearn.linear_model import LinearRegression\n",
    "import seaborn as sns\n",
    "import numpy as np\n",
    "gold = pd.read_csv('GOLD.csv')\n",
    "predictor = LinearRegression()\n",
    "predictor.fit(gold[gold.Pred.notnull()][['Price','Open','High','Low']],gold[gold.Pred.notnull()].Pred)\n",
    "print('Coefficients =',predictor.coef_,\n",
    "      '\\nAccuracy =',predictor.score(gold[gold.Pred.notnull()][['Price','Open','High','Low']],gold[gold.Pred.notnull()].Pred)*100,'%')\n",
    "gold['Pred'] = predictor.predict(gold[['Price','Open','High','Low']])\n",
    "\n",
    "predictor2 = LinearRegression()\n",
    "predictor2.fit(gold[['Price','Open','High','Low']],gold.new)\n",
    "print('\\nCoefficients =',predictor2.coef_,\n",
    "      '\\nAccuracy =',predictor2.score(gold[['Price','Open','High','Low']],gold.new)*100,'%')\n",
    "p_new = predictor2.predict(gold[['Price','Open','High','Low']])\n",
    "fig,ax = plt.subplots(figsize=(20,10))\n",
    "plt.hist(gold.new)\n",
    "plt.hist(p_new)\n",
    "plt.legend(['\\'new\\'','Predicted \\'new\\''])\n",
    "plt.xlabel('Values')\n",
    "plt.ylabel('Frequency')\n",
    "plt.show()\n",
    "\n",
    "\n",
    "# Column 'new' is a polynomial function of the inputs.\n",
    "# Column 'Pred' is a linear function of the inputs."
   ]
  },
  {
   "cell_type": "markdown",
   "metadata": {},
   "source": [
    "### Query 3.2 \n",
    "Import the stock of your choosing AND the Nifty index. <br>\n",
    "Using linear regression (OLS), calculate -\n",
    "<ul>\n",
    "    <li>The daily Beta value for the past 3 months. (Daily= Daily returns)</li>\n",
    "    <li>The monthly Beta value. (Monthly= Monthly returns)</li>\n",
    "</ul>\n",
    "Refrain from using the (covariance(x,y)/variance(x)) formula. <br>\n",
    "Attempt the question using regression.(Regression Reference) <br>\n",
    "Were the Beta values more or less than 1 ? What if it was negative ? <br>\n",
    "Discuss. Include a brief writeup in the bottom of your jupyter notebook with your inferences from the Beta values and regression results"
   ]
  },
  {
   "cell_type": "code",
   "execution_count": 2,
   "metadata": {},
   "outputs": [
    {
     "name": "stdout",
     "output_type": "stream",
     "text": [
      "Daily Beta = [0.13538675]\n",
      "Monthly Beta = [0.19670579]\n"
     ]
    }
   ],
   "source": [
    "nifty = pd.read_csv('Nifty50.csv')\n",
    "tcs = pd.read_csv('TCS.csv')\n",
    "tcs = tcs[tcs.Series == 'EQ']\n",
    "nifty['Daily Return'] = nifty.Close.rolling(2).apply(lambda x: x[-1] - x[0],raw ='False')\n",
    "tcs['Daily Return'] = tcs['Close Price'].rolling(2).apply(lambda x: x[-1] - x[0],raw='False')\n",
    "nifty['Daily Return'].fillna(0,inplace=True)\n",
    "tcs['Daily Return'].fillna(0,inplace=True)\n",
    "\n",
    "daily = LinearRegression()\n",
    "daily.fit(np.array(nifty.tail(90)['Daily Return']).reshape(-1,1),tcs.tail(90)['Daily Return'])\n",
    "daily_beta = daily.coef_\n",
    "print('Daily Beta =',daily_beta)\n",
    "\n",
    "nifty_monthly_return = nifty.Close.rolling(30).apply(lambda x: x[-1] - x[0],raw='False')\n",
    "tcs_monthly_return = tcs['Close Price'].rolling(30).apply(lambda x: x[-1] - x[0],raw='False')\n",
    "nifty_monthly_return.fillna(0,inplace=True)\n",
    "tcs_monthly_return.fillna(0,inplace=True)\n",
    "\n",
    "monthly = LinearRegression()\n",
    "monthly.fit(np.array(nifty_monthly_return).reshape(-1,1),tcs_monthly_return)\n",
    "monthly_beta = monthly.coef_\n",
    "print('Monthly Beta =',monthly_beta)\n",
    "\n",
    "# The Beta values are less than 1\n",
    "# If Beta is negative that means that the stock goes high when the market is low and goes low when the market is high.\n",
    "\n",
    "# We can conclude from the calculated Beta values (using Regression) that the stock TCS is not much affected by the way\n",
    "# market changes. It is has low risk but the returns are low too.\n",
    "# The losses are low when the market is down but the same applies on the profit when the market is up."
   ]
  }
 ],
 "metadata": {
  "kernelspec": {
   "display_name": "Python 3",
   "language": "python",
   "name": "python3"
  },
  "language_info": {
   "codemirror_mode": {
    "name": "ipython",
    "version": 3
   },
   "file_extension": ".py",
   "mimetype": "text/x-python",
   "name": "python",
   "nbconvert_exporter": "python",
   "pygments_lexer": "ipython3",
   "version": "3.6.5"
  }
 },
 "nbformat": 4,
 "nbformat_minor": 2
}
